{
 "cells": [
  {
   "cell_type": "code",
   "execution_count": 1,
   "id": "297f4d5d-fe6c-4126-80ff-82703779f6f2",
   "metadata": {},
   "outputs": [
    {
     "name": "stdout",
     "output_type": "stream",
     "text": [
      "   sepal_length  sepal_width  petal_length  petal_width species\n",
      "0           5.1          3.5           1.4          0.2  setosa\n",
      "1           4.9          3.0           1.4          0.2  setosa\n",
      "2           4.7          3.2           1.3          0.2  setosa\n",
      "3           4.6          3.1           1.5          0.2  setosa\n",
      "4           5.0          3.6           1.4          0.2  setosa\n"
     ]
    }
   ],
   "source": [
    "import pandas as pd\n",
    "\n",
    "# File path to the dataset\n",
    " \n",
    "\n",
    "# Read the dataset using pandas\n",
    "data = pd.read_csv(r\"C:\\Users\\ranjthabj\\Downloads\\iris (1).csv\")\n",
    "\n",
    "# Display the first few rows of the dataset\n",
    "print(data.head())\n"
   ]
  },
  {
   "cell_type": "code",
   "execution_count": null,
   "id": "9f2c6bd3-fc8a-4693-9972-acebf039a7a2",
   "metadata": {},
   "outputs": [],
   "source": []
  },
  {
   "cell_type": "code",
   "execution_count": 1,
   "id": "075c3557-bcde-4019-91c7-f541280b46e5",
   "metadata": {},
   "outputs": [
    {
     "name": "stdout",
     "output_type": "stream",
     "text": [
      "   sepal_length  sepal_width  petal_length  petal_width species\n",
      "0           5.1          3.5           1.4          0.2  setosa\n",
      "1           4.9          3.0           1.4          0.2  setosa\n",
      "2           4.7          3.2           1.3          0.2  setosa\n",
      "3           4.6          3.1           1.5          0.2  setosa\n",
      "4           5.0          3.6           1.4          0.2  setosa\n"
     ]
    }
   ],
   "source": [
    "from tkinter import *\n",
    "from tkinter import messagebox\n",
    "import pandas as pd\n",
    "from sklearn.tree import DecisionTreeClassifier\n",
    "\n",
    "# Load the dataset correctly\n",
    "file_path = r\"C:\\Users\\ranjthabj\\Downloads\\iris (1).csv\"\n",
    "df = pd.read_csv(file_path)\n",
    "\n",
    "# Check if the dataset is loaded properly\n",
    "print(df.head())\n",
    "\n",
    "# (Further implementation needed for GUI and model training)\n"
   ]
  },
  {
   "cell_type": "code",
   "execution_count": 2,
   "id": "fa341581-f45f-4133-baba-112283e67047",
   "metadata": {},
   "outputs": [
    {
     "name": "stdout",
     "output_type": "stream",
     "text": [
      "   sepal_length  sepal_width  petal_length  petal_width species\n",
      "0           5.1          3.5           1.4          0.2  setosa\n",
      "1           4.9          3.0           1.4          0.2  setosa\n",
      "2           4.7          3.2           1.3          0.2  setosa\n",
      "3           4.6          3.1           1.5          0.2  setosa\n",
      "4           5.0          3.6           1.4          0.2  setosa\n",
      "Model trained successfully!\n"
     ]
    }
   ],
   "source": [
    "from tkinter import *\n",
    "from tkinter import messagebox\n",
    "import pandas as pd\n",
    "from sklearn.tree import DecisionTreeClassifier\n",
    "\n",
    "# Load the dataset\n",
    "file_path = r\"C:\\Users\\ranjthabj\\Downloads\\iris (1).csv\"\n",
    "df = pd.read_csv(file_path)\n",
    "\n",
    "# Check dataset structure\n",
    "print(df.head())\n",
    "\n",
    "# Assuming the last column is the target variable\n",
    "X = df.iloc[:, :-1]  # All columns except the last one as features\n",
    "y = df.iloc[:, -1]   # Last column as target\n",
    "\n",
    "# Train the Decision Tree model\n",
    "model = DecisionTreeClassifier()\n",
    "model.fit(X, y)\n",
    "\n",
    "print(\"Model trained successfully!\")\n",
    "\n",
    "\n"
   ]
  },
  {
   "cell_type": "code",
   "execution_count": 1,
   "id": "3c9934dc-9039-454b-8294-880a226406f0",
   "metadata": {},
   "outputs": [],
   "source": [
    "from tkinter import *\n",
    "from tkinter import messagebox\n",
    "import joblib\n",
    "import numpy as np\n",
    "\n",
    "# Load the pre-trained model once\n",
    "model = joblib.load(\"iris_model.joblib\")\n",
    "\n",
    "# Define the class names manually\n",
    "class_names = ['setosa', 'versicolor', 'virginica']\n",
    "\n",
    "# Initialize the main window\n",
    "root = Tk()\n",
    "root.title(\"Iris Flower Predictor\")\n",
    "root.geometry(\"600x250\")\n",
    "root.config(bg=\"lightblue\")\n",
    "\n",
    "# Header label\n",
    "header = Label(root, text=\"Iris Flower Predictor\", bg=\"lightblue\",\n",
    "               foreground=\"black\", font=(\"Arial\", 15, \"bold\"))\n",
    "header.pack()\n",
    "\n",
    "# Frame for input fields\n",
    "frame1 = Frame(root, bg=\"lightblue\")\n",
    "frame1.pack(pady=10)\n",
    "\n",
    "# Labels and entry fields for each feature\n",
    "labels = [\"Sepal Length (cm)\", \"Sepal Width (cm)\", \"Petal Length (cm)\", \"Petal Width (cm)\"]\n",
    "entries = []\n",
    "\n",
    "for i, label_text in enumerate(labels):\n",
    "    label = Label(frame1, text=label_text, bg=\"lightblue\", foreground=\"black\",\n",
    "                  font=(\"Arial\", 12, \"bold\"))\n",
    "    label.grid(row=i // 2, column=(i % 2) * 2, padx=10, pady=10, sticky=E)\n",
    "    \n",
    "    entry = Entry(frame1, width=10, font=(\"Arial\", 12), bg=\"white\", fg=\"black\", borderwidth=3)\n",
    "    entry.grid(row=i // 2, column=(i % 2) * 2 + 1, padx=10, pady=10)\n",
    "    entries.append(entry)\n",
    "\n",
    "# Label to display the prediction result\n",
    "species_label = Label(root, text=\"\", bg=\"lightblue\", font=(\"Arial\", 15, \"bold\"))\n",
    "species_label.pack(pady=10)\n",
    "\n",
    "def predict_species():\n",
    "    try:\n",
    "        # Retrieve and validate user inputs\n",
    "        features = [float(entry.get()) for entry in entries]\n",
    "        \n",
    "        # Reshape input for prediction\n",
    "        features = np.array(features).reshape(1, -1)\n",
    "        \n",
    "        # Make prediction\n",
    "        pred = model.predict(features)\n",
    "        \n",
    "        # Update the result label\n",
    "        species_label.config(text=\"Predicted Species: \" + class_names[pred[0]])\n",
    "    except ValueError:\n",
    "        messagebox.showerror(\"Input Error\", \"Please enter valid numerical values.\")\n",
    "\n",
    "# Predict button\n",
    "button = Button(root, text=\"Predict Species\", bg=\"green\", activebackground=\"blue\",\n",
    "                borderwidth=3, font=(\"Arial\", 15, \"bold\"), command=predict_species)\n",
    "button.pack(pady=10)\n",
    "\n",
    "# Start the GUI event loop\n",
    "root.mainloop()\n"
   ]
  },
  {
   "cell_type": "code",
   "execution_count": null,
   "id": "b55ab5ae-7e8b-48ec-91fa-76275cf12c35",
   "metadata": {},
   "outputs": [],
   "source": []
  },
  {
   "cell_type": "code",
   "execution_count": null,
   "id": "caa0e0e4-03a0-4be1-b602-8be2791f8e19",
   "metadata": {},
   "outputs": [],
   "source": []
  },
  {
   "cell_type": "code",
   "execution_count": null,
   "id": "e60d7c01-672f-4a7e-9e7b-6e0a5624c98b",
   "metadata": {},
   "outputs": [],
   "source": []
  },
  {
   "cell_type": "code",
   "execution_count": null,
   "id": "9b093741-c612-49c2-a8db-c1b8350bdba6",
   "metadata": {},
   "outputs": [],
   "source": []
  }
 ],
 "metadata": {
  "kernelspec": {
   "display_name": "Python 3 (ipykernel)",
   "language": "python",
   "name": "python3"
  },
  "language_info": {
   "codemirror_mode": {
    "name": "ipython",
    "version": 3
   },
   "file_extension": ".py",
   "mimetype": "text/x-python",
   "name": "python",
   "nbconvert_exporter": "python",
   "pygments_lexer": "ipython3",
   "version": "3.12.7"
  }
 },
 "nbformat": 4,
 "nbformat_minor": 5
}
